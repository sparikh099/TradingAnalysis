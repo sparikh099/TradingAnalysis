{
 "cells": [
  {
   "cell_type": "markdown",
   "metadata": {},
   "source": [
    "## Bayesian Neural Network Modeling\n",
    "Shyam Parikh"
   ]
  },
  {
   "cell_type": "code",
   "execution_count": 290,
   "metadata": {},
   "outputs": [],
   "source": [
    "import numpy as np\n",
    "import pandas as pd\n",
    "from sklearn.preprocessing import MinMaxScaler\n",
    "import tensorflow as tf\n",
    "from tensorflow.keras.models import Model\n",
    "from tensorflow.keras import layers\n",
    "from tensorflow.keras import backend as K\n",
    "import tensorflow_probability as tfp\n",
    "from tensorflow.keras.layers import Input, Dense, Dropout\n",
    "import tensorflow_probability.python.distributions as tfd"
   ]
  },
  {
   "cell_type": "code",
   "execution_count": 291,
   "metadata": {},
   "outputs": [],
   "source": [
    "import pandas\n",
    "from datetime import datetime,timedelta\n",
    "import yfinance as yf\n",
    "from pandas_datareader import data as pdr\n"
   ]
  },
  {
   "cell_type": "code",
   "execution_count": 292,
   "metadata": {},
   "outputs": [
    {
     "name": "stdout",
     "output_type": "stream",
     "text": [
      "['BKNG', 'CDNS', 'CPRT', 'CRM', 'GE', 'META', 'MKTX', 'NVDA', 'ULTA', 'WST']\n"
     ]
    }
   ],
   "source": [
    "START_DATE = (datetime.today() - timedelta(days = 1 * 365)).strftime('%Y-%m-%d') # data start date\n",
    "END_DATE = datetime.today().strftime('%Y-%m-%d') # data end date\n",
    "data = pd.read_csv('basePortfolioStocks.csv')\n",
    "tickers = list(data[\"Unnamed: 0\"])\n",
    "print(tickers)\n"
   ]
  },
  {
   "cell_type": "code",
   "execution_count": 293,
   "metadata": {},
   "outputs": [
    {
     "name": "stdout",
     "output_type": "stream",
     "text": [
      "[*********************100%***********************]  10 of 10 completed\n"
     ]
    }
   ],
   "source": [
    "yf.pdr_override()\n",
    "tickersList = pdr.get_data_yahoo(tickers, START_DATE, END_DATE)['Adj Close']\n",
    "tickersLogRetList = np.log(tickersList).diff().dropna()\n",
    "tickerSum_stats = pd.DataFrame({'Mean':tickersLogRetList.mean(), 'SD': tickersLogRetList.std(), 'Skewness':tickersLogRetList.skew(), 'Excess Kurtosis':tickersLogRetList.kurtosis() , 'RR ratio':(tickersLogRetList.mean()/tickersLogRetList.std())})\n",
    "tickerSum_stats = tickerSum_stats.sort_values(by='RR ratio', ascending=False)"
   ]
  },
  {
   "cell_type": "code",
   "execution_count": 294,
   "metadata": {},
   "outputs": [
    {
     "data": {
      "text/html": [
       "<div>\n",
       "<style scoped>\n",
       "    .dataframe tbody tr th:only-of-type {\n",
       "        vertical-align: middle;\n",
       "    }\n",
       "\n",
       "    .dataframe tbody tr th {\n",
       "        vertical-align: top;\n",
       "    }\n",
       "\n",
       "    .dataframe thead th {\n",
       "        text-align: right;\n",
       "    }\n",
       "</style>\n",
       "<table border=\"1\" class=\"dataframe\">\n",
       "  <thead>\n",
       "    <tr style=\"text-align: right;\">\n",
       "      <th></th>\n",
       "      <th>Mean</th>\n",
       "      <th>SD</th>\n",
       "      <th>Skewness</th>\n",
       "      <th>Excess Kurtosis</th>\n",
       "      <th>RR ratio</th>\n",
       "    </tr>\n",
       "  </thead>\n",
       "  <tbody>\n",
       "    <tr>\n",
       "      <th>CPRT</th>\n",
       "      <td>0.001144</td>\n",
       "      <td>0.018734</td>\n",
       "      <td>0.051885</td>\n",
       "      <td>1.451866</td>\n",
       "      <td>0.061058</td>\n",
       "    </tr>\n",
       "    <tr>\n",
       "      <th>CDNS</th>\n",
       "      <td>0.001389</td>\n",
       "      <td>0.022847</td>\n",
       "      <td>0.094824</td>\n",
       "      <td>1.148242</td>\n",
       "      <td>0.060814</td>\n",
       "    </tr>\n",
       "    <tr>\n",
       "      <th>GE</th>\n",
       "      <td>0.001280</td>\n",
       "      <td>0.021355</td>\n",
       "      <td>-0.698628</td>\n",
       "      <td>3.028517</td>\n",
       "      <td>0.059951</td>\n",
       "    </tr>\n",
       "    <tr>\n",
       "      <th>ULTA</th>\n",
       "      <td>0.001003</td>\n",
       "      <td>0.020736</td>\n",
       "      <td>-0.082191</td>\n",
       "      <td>7.185621</td>\n",
       "      <td>0.048362</td>\n",
       "    </tr>\n",
       "    <tr>\n",
       "      <th>MKTX</th>\n",
       "      <td>0.001161</td>\n",
       "      <td>0.025204</td>\n",
       "      <td>-0.537582</td>\n",
       "      <td>6.312962</td>\n",
       "      <td>0.046052</td>\n",
       "    </tr>\n",
       "    <tr>\n",
       "      <th>BKNG</th>\n",
       "      <td>0.000785</td>\n",
       "      <td>0.023612</td>\n",
       "      <td>-0.526901</td>\n",
       "      <td>0.816887</td>\n",
       "      <td>0.033237</td>\n",
       "    </tr>\n",
       "    <tr>\n",
       "      <th>NVDA</th>\n",
       "      <td>0.000863</td>\n",
       "      <td>0.037792</td>\n",
       "      <td>0.069617</td>\n",
       "      <td>0.648879</td>\n",
       "      <td>0.022832</td>\n",
       "    </tr>\n",
       "    <tr>\n",
       "      <th>CRM</th>\n",
       "      <td>0.000210</td>\n",
       "      <td>0.028456</td>\n",
       "      <td>0.233205</td>\n",
       "      <td>1.423688</td>\n",
       "      <td>0.007372</td>\n",
       "    </tr>\n",
       "    <tr>\n",
       "      <th>META</th>\n",
       "      <td>0.000151</td>\n",
       "      <td>0.039496</td>\n",
       "      <td>-0.682291</td>\n",
       "      <td>13.403290</td>\n",
       "      <td>0.003815</td>\n",
       "    </tr>\n",
       "    <tr>\n",
       "      <th>WST</th>\n",
       "      <td>-0.000098</td>\n",
       "      <td>0.026776</td>\n",
       "      <td>-0.128653</td>\n",
       "      <td>5.256649</td>\n",
       "      <td>-0.003648</td>\n",
       "    </tr>\n",
       "  </tbody>\n",
       "</table>\n",
       "</div>"
      ],
      "text/plain": [
       "          Mean        SD  Skewness  Excess Kurtosis  RR ratio\n",
       "CPRT  0.001144  0.018734  0.051885         1.451866  0.061058\n",
       "CDNS  0.001389  0.022847  0.094824         1.148242  0.060814\n",
       "GE    0.001280  0.021355 -0.698628         3.028517  0.059951\n",
       "ULTA  0.001003  0.020736 -0.082191         7.185621  0.048362\n",
       "MKTX  0.001161  0.025204 -0.537582         6.312962  0.046052\n",
       "BKNG  0.000785  0.023612 -0.526901         0.816887  0.033237\n",
       "NVDA  0.000863  0.037792  0.069617         0.648879  0.022832\n",
       "CRM   0.000210  0.028456  0.233205         1.423688  0.007372\n",
       "META  0.000151  0.039496 -0.682291        13.403290  0.003815\n",
       "WST  -0.000098  0.026776 -0.128653         5.256649 -0.003648"
      ]
     },
     "execution_count": 294,
     "metadata": {},
     "output_type": "execute_result"
    }
   ],
   "source": [
    "tickerSum_stats"
   ]
  },
  {
   "cell_type": "code",
   "execution_count": 295,
   "metadata": {},
   "outputs": [
    {
     "name": "stdout",
     "output_type": "stream",
     "text": [
      "[*********************100%***********************]  1 of 1 completed\n",
      "[*********************100%***********************]  1 of 1 completed\n",
      "[*********************100%***********************]  1 of 1 completed\n",
      "[*********************100%***********************]  1 of 1 completed\n",
      "[*********************100%***********************]  1 of 1 completed\n",
      "[*********************100%***********************]  1 of 1 completed\n",
      "[*********************100%***********************]  1 of 1 completed\n",
      "[*********************100%***********************]  1 of 1 completed\n",
      "[*********************100%***********************]  1 of 1 completed\n",
      "[*********************100%***********************]  1 of 1 completed\n"
     ]
    },
    {
     "data": {
      "text/html": [
       "<div>\n",
       "<style scoped>\n",
       "    .dataframe tbody tr th:only-of-type {\n",
       "        vertical-align: middle;\n",
       "    }\n",
       "\n",
       "    .dataframe tbody tr th {\n",
       "        vertical-align: top;\n",
       "    }\n",
       "\n",
       "    .dataframe thead th {\n",
       "        text-align: right;\n",
       "    }\n",
       "</style>\n",
       "<table border=\"1\" class=\"dataframe\">\n",
       "  <thead>\n",
       "    <tr style=\"text-align: right;\">\n",
       "      <th></th>\n",
       "      <th>Open</th>\n",
       "      <th>High</th>\n",
       "      <th>Low</th>\n",
       "      <th>Close</th>\n",
       "      <th>Adj Close</th>\n",
       "      <th>Volume</th>\n",
       "    </tr>\n",
       "    <tr>\n",
       "      <th>Date</th>\n",
       "      <th></th>\n",
       "      <th></th>\n",
       "      <th></th>\n",
       "      <th></th>\n",
       "      <th></th>\n",
       "      <th></th>\n",
       "    </tr>\n",
       "  </thead>\n",
       "  <tbody>\n",
       "    <tr>\n",
       "      <th>2022-04-18 00:00:00-04:00</th>\n",
       "      <td>2210.000000</td>\n",
       "      <td>2226.179932</td>\n",
       "      <td>2173.000000</td>\n",
       "      <td>2199.310059</td>\n",
       "      <td>2199.310059</td>\n",
       "      <td>329400</td>\n",
       "    </tr>\n",
       "    <tr>\n",
       "      <th>2022-04-19 00:00:00-04:00</th>\n",
       "      <td>2204.810059</td>\n",
       "      <td>2252.989990</td>\n",
       "      <td>2204.810059</td>\n",
       "      <td>2239.379883</td>\n",
       "      <td>2239.379883</td>\n",
       "      <td>339700</td>\n",
       "    </tr>\n",
       "    <tr>\n",
       "      <th>2022-04-20 00:00:00-04:00</th>\n",
       "      <td>2260.000000</td>\n",
       "      <td>2284.250000</td>\n",
       "      <td>2243.770020</td>\n",
       "      <td>2251.800049</td>\n",
       "      <td>2251.800049</td>\n",
       "      <td>265500</td>\n",
       "    </tr>\n",
       "    <tr>\n",
       "      <th>2022-04-21 00:00:00-04:00</th>\n",
       "      <td>2316.070068</td>\n",
       "      <td>2337.899902</td>\n",
       "      <td>2224.280029</td>\n",
       "      <td>2239.320068</td>\n",
       "      <td>2239.320068</td>\n",
       "      <td>389800</td>\n",
       "    </tr>\n",
       "    <tr>\n",
       "      <th>2022-04-22 00:00:00-04:00</th>\n",
       "      <td>2226.000000</td>\n",
       "      <td>2263.959961</td>\n",
       "      <td>2209.820068</td>\n",
       "      <td>2213.870117</td>\n",
       "      <td>2213.870117</td>\n",
       "      <td>301800</td>\n",
       "    </tr>\n",
       "    <tr>\n",
       "      <th>...</th>\n",
       "      <td>...</td>\n",
       "      <td>...</td>\n",
       "      <td>...</td>\n",
       "      <td>...</td>\n",
       "      <td>...</td>\n",
       "      <td>...</td>\n",
       "    </tr>\n",
       "    <tr>\n",
       "      <th>2023-04-11 00:00:00-04:00</th>\n",
       "      <td>2581.810059</td>\n",
       "      <td>2588.679932</td>\n",
       "      <td>2561.060059</td>\n",
       "      <td>2566.469971</td>\n",
       "      <td>2566.469971</td>\n",
       "      <td>236700</td>\n",
       "    </tr>\n",
       "    <tr>\n",
       "      <th>2023-04-12 00:00:00-04:00</th>\n",
       "      <td>2587.860107</td>\n",
       "      <td>2587.919922</td>\n",
       "      <td>2534.520020</td>\n",
       "      <td>2547.250000</td>\n",
       "      <td>2547.250000</td>\n",
       "      <td>276200</td>\n",
       "    </tr>\n",
       "    <tr>\n",
       "      <th>2023-04-13 00:00:00-04:00</th>\n",
       "      <td>2569.000000</td>\n",
       "      <td>2631.100098</td>\n",
       "      <td>2560.500000</td>\n",
       "      <td>2629.629883</td>\n",
       "      <td>2629.629883</td>\n",
       "      <td>334600</td>\n",
       "    </tr>\n",
       "    <tr>\n",
       "      <th>2023-04-14 00:00:00-04:00</th>\n",
       "      <td>2626.449951</td>\n",
       "      <td>2657.979980</td>\n",
       "      <td>2615.620117</td>\n",
       "      <td>2649.860107</td>\n",
       "      <td>2649.860107</td>\n",
       "      <td>185400</td>\n",
       "    </tr>\n",
       "    <tr>\n",
       "      <th>2023-04-17 00:00:00-04:00</th>\n",
       "      <td>2631.969971</td>\n",
       "      <td>2676.179932</td>\n",
       "      <td>2631.969971</td>\n",
       "      <td>2676.050049</td>\n",
       "      <td>2676.050049</td>\n",
       "      <td>175700</td>\n",
       "    </tr>\n",
       "  </tbody>\n",
       "</table>\n",
       "<p>251 rows × 6 columns</p>\n",
       "</div>"
      ],
      "text/plain": [
       "                                  Open         High          Low        Close  \\\n",
       "Date                                                                            \n",
       "2022-04-18 00:00:00-04:00  2210.000000  2226.179932  2173.000000  2199.310059   \n",
       "2022-04-19 00:00:00-04:00  2204.810059  2252.989990  2204.810059  2239.379883   \n",
       "2022-04-20 00:00:00-04:00  2260.000000  2284.250000  2243.770020  2251.800049   \n",
       "2022-04-21 00:00:00-04:00  2316.070068  2337.899902  2224.280029  2239.320068   \n",
       "2022-04-22 00:00:00-04:00  2226.000000  2263.959961  2209.820068  2213.870117   \n",
       "...                                ...          ...          ...          ...   \n",
       "2023-04-11 00:00:00-04:00  2581.810059  2588.679932  2561.060059  2566.469971   \n",
       "2023-04-12 00:00:00-04:00  2587.860107  2587.919922  2534.520020  2547.250000   \n",
       "2023-04-13 00:00:00-04:00  2569.000000  2631.100098  2560.500000  2629.629883   \n",
       "2023-04-14 00:00:00-04:00  2626.449951  2657.979980  2615.620117  2649.860107   \n",
       "2023-04-17 00:00:00-04:00  2631.969971  2676.179932  2631.969971  2676.050049   \n",
       "\n",
       "                             Adj Close  Volume  \n",
       "Date                                            \n",
       "2022-04-18 00:00:00-04:00  2199.310059  329400  \n",
       "2022-04-19 00:00:00-04:00  2239.379883  339700  \n",
       "2022-04-20 00:00:00-04:00  2251.800049  265500  \n",
       "2022-04-21 00:00:00-04:00  2239.320068  389800  \n",
       "2022-04-22 00:00:00-04:00  2213.870117  301800  \n",
       "...                                ...     ...  \n",
       "2023-04-11 00:00:00-04:00  2566.469971  236700  \n",
       "2023-04-12 00:00:00-04:00  2547.250000  276200  \n",
       "2023-04-13 00:00:00-04:00  2629.629883  334600  \n",
       "2023-04-14 00:00:00-04:00  2649.860107  185400  \n",
       "2023-04-17 00:00:00-04:00  2676.050049  175700  \n",
       "\n",
       "[251 rows x 6 columns]"
      ]
     },
     "execution_count": 295,
     "metadata": {},
     "output_type": "execute_result"
    }
   ],
   "source": [
    "data = []\n",
    "for i in tickers:\n",
    "    data.append(pdr.get_data_yahoo(i, START_DATE, END_DATE))\n",
    "data[0]"
   ]
  },
  {
   "cell_type": "code",
   "execution_count": 296,
   "metadata": {},
   "outputs": [],
   "source": [
    "data[0] = data[0].drop(['Open','High','Low','Close','Volume'],axis = 1)"
   ]
  },
  {
   "cell_type": "markdown",
   "metadata": {},
   "source": [
    "## Preprocessing All of the Data"
   ]
  },
  {
   "cell_type": "markdown",
   "metadata": {},
   "source": [
    "for x in data:\n",
    "    # Assume you want to predict whether the next hour's closing price will be higher or lower than the current hour's closing price \n",
    "    x['returns'] = np.log(x['Adj Close']).diff()\n",
    "    x['direction'] = np.where(x['returns'] > 0, 1, 0)\n",
    "    \n"
   ]
  },
  {
   "cell_type": "code",
   "execution_count": 297,
   "metadata": {},
   "outputs": [],
   "source": [
    "# Load data\n",
    "# Preprocess data\n",
    "scaler = MinMaxScaler()\n",
    "data[0]['scaled_price'] = scaler.fit_transform(data[0]['Adj Close'].values.reshape(-1, 1))\n"
   ]
  },
  {
   "cell_type": "code",
   "execution_count": 298,
   "metadata": {},
   "outputs": [],
   "source": [
    "# Define train and test sets\n",
    "train_size = int(len(data[0]) * 0.8)\n",
    "train_data = data[0].iloc[:train_size]\n",
    "test_data = data[0].iloc[train_size:]"
   ]
  },
  {
   "cell_type": "code",
   "execution_count": 299,
   "metadata": {},
   "outputs": [
    {
     "ename": "ValueError",
     "evalue": "Output tensors of a Functional model must be the output of a TensorFlow `Layer` (thus holding past layer metadata). Found: tfp.distributions.Normal(\"Normal\", batch_shape=[?, 1], event_shape=[], dtype=float32)",
     "output_type": "error",
     "traceback": [
      "\u001b[0;31m---------------------------------------------------------------------------\u001b[0m",
      "\u001b[0;31mValueError\u001b[0m                                Traceback (most recent call last)",
      "Cell \u001b[0;32mIn [299], line 10\u001b[0m\n\u001b[1;32m      8\u001b[0m     model \u001b[38;5;241m=\u001b[39m Model(inputs\u001b[38;5;241m=\u001b[39minput_layer, outputs\u001b[38;5;241m=\u001b[39mtfd\u001b[38;5;241m.\u001b[39mNormal(output_layer, \u001b[38;5;241m1\u001b[39m))\n\u001b[1;32m      9\u001b[0m     \u001b[38;5;28;01mreturn\u001b[39;00m model\n\u001b[0;32m---> 10\u001b[0m model \u001b[38;5;241m=\u001b[39m \u001b[43mbayesian_model\u001b[49m\u001b[43m(\u001b[49m\u001b[43m)\u001b[49m\n",
      "Cell \u001b[0;32mIn [299], line 8\u001b[0m, in \u001b[0;36mbayesian_model\u001b[0;34m()\u001b[0m\n\u001b[1;32m      6\u001b[0m dropout_2 \u001b[38;5;241m=\u001b[39m Dropout(\u001b[38;5;241m0.2\u001b[39m)(hidden_layer_2)\n\u001b[1;32m      7\u001b[0m output_layer \u001b[38;5;241m=\u001b[39m Dense(\u001b[38;5;241m1\u001b[39m)(dropout_2)\n\u001b[0;32m----> 8\u001b[0m model \u001b[38;5;241m=\u001b[39m \u001b[43mModel\u001b[49m\u001b[43m(\u001b[49m\u001b[43minputs\u001b[49m\u001b[38;5;241;43m=\u001b[39;49m\u001b[43minput_layer\u001b[49m\u001b[43m,\u001b[49m\u001b[43m \u001b[49m\u001b[43moutputs\u001b[49m\u001b[38;5;241;43m=\u001b[39;49m\u001b[43mtfd\u001b[49m\u001b[38;5;241;43m.\u001b[39;49m\u001b[43mNormal\u001b[49m\u001b[43m(\u001b[49m\u001b[43moutput_layer\u001b[49m\u001b[43m,\u001b[49m\u001b[43m \u001b[49m\u001b[38;5;241;43m1\u001b[39;49m\u001b[43m)\u001b[49m\u001b[43m)\u001b[49m\n\u001b[1;32m      9\u001b[0m \u001b[38;5;28;01mreturn\u001b[39;00m model\n",
      "File \u001b[0;32m~/Library/Python/3.9/lib/python/site-packages/tensorflow/python/trackable/base.py:205\u001b[0m, in \u001b[0;36mno_automatic_dependency_tracking.<locals>._method_wrapper\u001b[0;34m(self, *args, **kwargs)\u001b[0m\n\u001b[1;32m    203\u001b[0m \u001b[39mself\u001b[39m\u001b[39m.\u001b[39m_self_setattr_tracking \u001b[39m=\u001b[39m \u001b[39mFalse\u001b[39;00m  \u001b[39m# pylint: disable=protected-access\u001b[39;00m\n\u001b[1;32m    204\u001b[0m \u001b[39mtry\u001b[39;00m:\n\u001b[0;32m--> 205\u001b[0m   result \u001b[39m=\u001b[39m method(\u001b[39mself\u001b[39;49m, \u001b[39m*\u001b[39;49margs, \u001b[39m*\u001b[39;49m\u001b[39m*\u001b[39;49mkwargs)\n\u001b[1;32m    206\u001b[0m \u001b[39mfinally\u001b[39;00m:\n\u001b[1;32m    207\u001b[0m   \u001b[39mself\u001b[39m\u001b[39m.\u001b[39m_self_setattr_tracking \u001b[39m=\u001b[39m previous_value  \u001b[39m# pylint: disable=protected-access\u001b[39;00m\n",
      "File \u001b[0;32m~/Library/Python/3.9/lib/python/site-packages/keras/engine/functional.py:166\u001b[0m, in \u001b[0;36mFunctional.__init__\u001b[0;34m(self, inputs, outputs, name, trainable, **kwargs)\u001b[0m\n\u001b[1;32m    157\u001b[0m     \u001b[39mif\u001b[39;00m \u001b[39mnot\u001b[39;00m \u001b[39mall\u001b[39m(\n\u001b[1;32m    158\u001b[0m         [\n\u001b[1;32m    159\u001b[0m             functional_utils\u001b[39m.\u001b[39mis_input_keras_tensor(t)\n\u001b[1;32m    160\u001b[0m             \u001b[39mfor\u001b[39;00m t \u001b[39min\u001b[39;00m tf\u001b[39m.\u001b[39mnest\u001b[39m.\u001b[39mflatten(inputs)\n\u001b[1;32m    161\u001b[0m         ]\n\u001b[1;32m    162\u001b[0m     ):\n\u001b[1;32m    163\u001b[0m         inputs, outputs \u001b[39m=\u001b[39m functional_utils\u001b[39m.\u001b[39mclone_graph_nodes(\n\u001b[1;32m    164\u001b[0m             inputs, outputs\n\u001b[1;32m    165\u001b[0m         )\n\u001b[0;32m--> 166\u001b[0m \u001b[39mself\u001b[39;49m\u001b[39m.\u001b[39;49m_init_graph_network(inputs, outputs)\n",
      "File \u001b[0;32m~/Library/Python/3.9/lib/python/site-packages/tensorflow/python/trackable/base.py:205\u001b[0m, in \u001b[0;36mno_automatic_dependency_tracking.<locals>._method_wrapper\u001b[0;34m(self, *args, **kwargs)\u001b[0m\n\u001b[1;32m    203\u001b[0m \u001b[39mself\u001b[39m\u001b[39m.\u001b[39m_self_setattr_tracking \u001b[39m=\u001b[39m \u001b[39mFalse\u001b[39;00m  \u001b[39m# pylint: disable=protected-access\u001b[39;00m\n\u001b[1;32m    204\u001b[0m \u001b[39mtry\u001b[39;00m:\n\u001b[0;32m--> 205\u001b[0m   result \u001b[39m=\u001b[39m method(\u001b[39mself\u001b[39;49m, \u001b[39m*\u001b[39;49margs, \u001b[39m*\u001b[39;49m\u001b[39m*\u001b[39;49mkwargs)\n\u001b[1;32m    206\u001b[0m \u001b[39mfinally\u001b[39;00m:\n\u001b[1;32m    207\u001b[0m   \u001b[39mself\u001b[39m\u001b[39m.\u001b[39m_self_setattr_tracking \u001b[39m=\u001b[39m previous_value  \u001b[39m# pylint: disable=protected-access\u001b[39;00m\n",
      "File \u001b[0;32m~/Library/Python/3.9/lib/python/site-packages/keras/engine/functional.py:208\u001b[0m, in \u001b[0;36mFunctional._init_graph_network\u001b[0;34m(self, inputs, outputs)\u001b[0m\n\u001b[1;32m    203\u001b[0m     \u001b[39mif\u001b[39;00m \u001b[39many\u001b[39m(\n\u001b[1;32m    204\u001b[0m         \u001b[39mnot\u001b[39;00m \u001b[39mhasattr\u001b[39m(tensor, \u001b[39m\"\u001b[39m\u001b[39m_keras_history\u001b[39m\u001b[39m\"\u001b[39m) \u001b[39mfor\u001b[39;00m tensor \u001b[39min\u001b[39;00m \u001b[39mself\u001b[39m\u001b[39m.\u001b[39moutputs\n\u001b[1;32m    205\u001b[0m     ):\n\u001b[1;32m    206\u001b[0m         base_layer_utils\u001b[39m.\u001b[39mcreate_keras_history(\u001b[39mself\u001b[39m\u001b[39m.\u001b[39m_nested_outputs)\n\u001b[0;32m--> 208\u001b[0m \u001b[39mself\u001b[39;49m\u001b[39m.\u001b[39;49m_validate_graph_inputs_and_outputs()\n\u001b[1;32m    210\u001b[0m \u001b[39m# A Network does not create weights of its own, thus it is already\u001b[39;00m\n\u001b[1;32m    211\u001b[0m \u001b[39m# built.\u001b[39;00m\n\u001b[1;32m    212\u001b[0m \u001b[39mself\u001b[39m\u001b[39m.\u001b[39mbuilt \u001b[39m=\u001b[39m \u001b[39mTrue\u001b[39;00m\n",
      "File \u001b[0;32m~/Library/Python/3.9/lib/python/site-packages/keras/engine/functional.py:859\u001b[0m, in \u001b[0;36mFunctional._validate_graph_inputs_and_outputs\u001b[0;34m(self)\u001b[0m\n\u001b[1;32m    857\u001b[0m \u001b[39mif\u001b[39;00m \u001b[39mnot\u001b[39;00m \u001b[39mhasattr\u001b[39m(x, \u001b[39m\"\u001b[39m\u001b[39m_keras_history\u001b[39m\u001b[39m\"\u001b[39m):\n\u001b[1;32m    858\u001b[0m     cls_name \u001b[39m=\u001b[39m \u001b[39mself\u001b[39m\u001b[39m.\u001b[39m\u001b[39m__class__\u001b[39m\u001b[39m.\u001b[39m\u001b[39m__name__\u001b[39m\n\u001b[0;32m--> 859\u001b[0m     \u001b[39mraise\u001b[39;00m \u001b[39mValueError\u001b[39;00m(\n\u001b[1;32m    860\u001b[0m         \u001b[39mf\u001b[39m\u001b[39m\"\u001b[39m\u001b[39mOutput tensors of a \u001b[39m\u001b[39m{\u001b[39;00mcls_name\u001b[39m}\u001b[39;00m\u001b[39m model must be \u001b[39m\u001b[39m\"\u001b[39m\n\u001b[1;32m    861\u001b[0m         \u001b[39m\"\u001b[39m\u001b[39mthe output of a TensorFlow `Layer` \u001b[39m\u001b[39m\"\u001b[39m\n\u001b[1;32m    862\u001b[0m         \u001b[39mf\u001b[39m\u001b[39m\"\u001b[39m\u001b[39m(thus holding past layer metadata). Found: \u001b[39m\u001b[39m{\u001b[39;00mx\u001b[39m}\u001b[39;00m\u001b[39m\"\u001b[39m\n\u001b[1;32m    863\u001b[0m     )\n",
      "\u001b[0;31mValueError\u001b[0m: Output tensors of a Functional model must be the output of a TensorFlow `Layer` (thus holding past layer metadata). Found: tfp.distributions.Normal(\"Normal\", batch_shape=[?, 1], event_shape=[], dtype=float32)"
     ]
    }
   ],
   "source": [
    "def bayesian_model():\n",
    "    input_layer = Input(shape=(1,))\n",
    "    hidden_layer_1 = Dense(32, activation='relu')(input_layer)\n",
    "    dropout_1 = Dropout(0.2)(hidden_layer_1)\n",
    "    hidden_layer_2 = Dense(16, activation='relu')(dropout_1)\n",
    "    dropout_2 = Dropout(0.2)(hidden_layer_2)\n",
    "    output_layer = Dense(1)(dropout_2)\n",
    "    model = Model(inputs=input_layer, outputs=tfd.Normal(output_layer, 1))\n",
    "    return model\n",
    "model = bayesian_model()\n"
   ]
  },
  {
   "cell_type": "code",
   "execution_count": null,
   "metadata": {},
   "outputs": [],
   "source": [
    "# Define negative log likelihood loss function\n",
    "def negative_log_likelihood(y_true, y_pred):\n",
    "    return -y_pred.log_prob(y_true)"
   ]
  },
  {
   "cell_type": "code",
   "execution_count": null,
   "metadata": {},
   "outputs": [
    {
     "ename": "NameError",
     "evalue": "name 'neg_log_likelihood' is not defined",
     "output_type": "error",
     "traceback": [
      "\u001b[0;31m---------------------------------------------------------------------------\u001b[0m",
      "\u001b[0;31mNameError\u001b[0m                                 Traceback (most recent call last)",
      "Cell \u001b[0;32mIn [278], line 1\u001b[0m\n\u001b[0;32m----> 1\u001b[0m model\u001b[38;5;241m.\u001b[39mcompile(optimizer\u001b[38;5;241m=\u001b[39mtf\u001b[38;5;241m.\u001b[39moptimizers\u001b[38;5;241m.\u001b[39mAdam(learning_rate\u001b[38;5;241m=\u001b[39m\u001b[38;5;241m0.01\u001b[39m), loss\u001b[38;5;241m=\u001b[39m\u001b[43mneg_log_likelihood\u001b[49m)\n",
      "\u001b[0;31mNameError\u001b[0m: name 'neg_log_likelihood' is not defined"
     ]
    }
   ],
   "source": [
    "model.compile(optimizer=tf.optimizers.Adam(learning_rate=0.01), loss=neg_log_likelihood)\n"
   ]
  },
  {
   "cell_type": "code",
   "execution_count": null,
   "metadata": {},
   "outputs": [
    {
     "name": "stdout",
     "output_type": "stream",
     "text": [
      "2/2 [==============================] - 0s 13ms/step - loss: 0.9199\n"
     ]
    }
   ],
   "source": [
    "history = model.fit(train_data[:, 0], train_data[:, 0], epochs=100, batch_size=32, validation_split=0.2)\n"
   ]
  },
  {
   "cell_type": "code",
   "execution_count": null,
   "metadata": {},
   "outputs": [],
   "source": [
    "import yfinance as yf\n",
    "\n",
    "def get_current_price(ticker):\n",
    "    stock  = yf.Ticker(ticker)\n",
    "    price = (stock.history(period = '1d')['Close'][0])\n",
    "    print(price)\n",
    "    return (price)"
   ]
  },
  {
   "cell_type": "code",
   "execution_count": null,
   "metadata": {},
   "outputs": [
    {
     "data": {
      "text/html": [
       "<div>\n",
       "<style scoped>\n",
       "    .dataframe tbody tr th:only-of-type {\n",
       "        vertical-align: middle;\n",
       "    }\n",
       "\n",
       "    .dataframe tbody tr th {\n",
       "        vertical-align: top;\n",
       "    }\n",
       "\n",
       "    .dataframe thead th {\n",
       "        text-align: right;\n",
       "    }\n",
       "</style>\n",
       "<table border=\"1\" class=\"dataframe\">\n",
       "  <thead>\n",
       "    <tr style=\"text-align: right;\">\n",
       "      <th></th>\n",
       "      <th>Open</th>\n",
       "      <th>High</th>\n",
       "      <th>Low</th>\n",
       "      <th>Close</th>\n",
       "      <th>Volume</th>\n",
       "      <th>Dividends</th>\n",
       "      <th>Stock Splits</th>\n",
       "    </tr>\n",
       "    <tr>\n",
       "      <th>Date</th>\n",
       "      <th></th>\n",
       "      <th></th>\n",
       "      <th></th>\n",
       "      <th></th>\n",
       "      <th></th>\n",
       "      <th></th>\n",
       "      <th></th>\n",
       "    </tr>\n",
       "  </thead>\n",
       "  <tbody>\n",
       "    <tr>\n",
       "      <th>2023-04-18 00:00:00-04:00</th>\n",
       "      <td>291.570007</td>\n",
       "      <td>291.76001</td>\n",
       "      <td>287.01001</td>\n",
       "      <td>288.369995</td>\n",
       "      <td>20149400</td>\n",
       "      <td>0.0</td>\n",
       "      <td>0.0</td>\n",
       "    </tr>\n",
       "  </tbody>\n",
       "</table>\n",
       "</div>"
      ],
      "text/plain": [
       "                                 Open       High        Low       Close  \\\n",
       "Date                                                                      \n",
       "2023-04-18 00:00:00-04:00  291.570007  291.76001  287.01001  288.369995   \n",
       "\n",
       "                             Volume  Dividends  Stock Splits  \n",
       "Date                                                          \n",
       "2023-04-18 00:00:00-04:00  20149400        0.0           0.0  "
      ]
     },
     "execution_count": 260,
     "metadata": {},
     "output_type": "execute_result"
    }
   ],
   "source": [
    "msft = yf.Ticker(\"MSFT\")\n",
    "\n",
    "# get all stock info\n",
    "hist = msft.history(period=\"1d\")\n",
    "hist"
   ]
  }
 ],
 "metadata": {
  "kernelspec": {
   "display_name": "Python 3.9.0 64-bit",
   "language": "python",
   "name": "python3"
  },
  "language_info": {
   "codemirror_mode": {
    "name": "ipython",
    "version": 3
   },
   "file_extension": ".py",
   "mimetype": "text/x-python",
   "name": "python",
   "nbconvert_exporter": "python",
   "pygments_lexer": "ipython3",
   "version": "3.9.0"
  },
  "orig_nbformat": 4,
  "vscode": {
   "interpreter": {
    "hash": "aee8b7b246df8f9039afb4144a1f6fd8d2ca17a180786b69acc140d282b71a49"
   }
  }
 },
 "nbformat": 4,
 "nbformat_minor": 2
}
