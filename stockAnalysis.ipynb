{
 "cells": [
  {
   "cell_type": "markdown",
   "metadata": {},
   "source": [
    "## Portfolio Development\n",
    "March 28,2023\n",
    "Shyam Parikh"
   ]
  },
  {
   "cell_type": "code",
   "execution_count": 7,
   "metadata": {},
   "outputs": [],
   "source": [
    "import numpy as np \n",
    "import pandas as pd\n",
    "from matplotlib import pyplot as plt\n",
    "import seaborn as sns\n",
    "import scipy as stats\n",
    "from datetime import datetime,timedelta\n",
    "from sklearn.preprocessing import scale\n",
    "from sklearn.model_selection import train_test_split\n",
    "from sklearn.preprocessing import StandardScaler\n",
    "from matplotlib.ticker import FuncFormatter\n",
    "from pandas_datareader import data as pdr\n",
    "from scipy.stats import t, laplace, expon, uniform, norm\n",
    "import statsmodels.api as sm\n",
    "import random\n",
    "import bs4 as bs\n",
    "import requests\n",
    "from itertools import chain\n",
    "import yahoo_fin.stock_info as si\n",
    "from sklearn.cluster import KMeans\n",
    "from sklearn import metrics\n",
    "from sklearn.metrics import silhouette_score\n",
    "from statsmodels.tsa.stattools import coint\n",
    "from scipy.stats import t\n",
    "from scipy.stats import norm\n",
    "import yfinance as yf\n",
    "import pandas_datareader.data as web\n",
    "from datetime import datetime\n",
    "from functools import reduce\n"
   ]
  },
  {
   "cell_type": "code",
   "execution_count": 8,
   "metadata": {},
   "outputs": [],
   "source": [
    "\n",
    "def rrsp500Portfolio(TAU):\n",
    "    #These list of stocks represent the top 10 stocks in each of the sector ETFs.\n",
    "    yf.pdr_override()\n",
    "    #START_DATE = (datetime.today() - timedelta(days = TAU * 365)).strftime('%Y-%m-%d') # data start date\n",
    "    #END_DATE = datetime.today().strftime('%Y-%m-%d') # data end date\n",
    "    resp = requests.get('http://en.wikipedia.org/wiki/List_of_S%26P_500_companies')\n",
    "    soup = bs.BeautifulSoup(resp.text, 'lxml')\n",
    "    table = soup.find('table', {'class': 'wikitable sortable'})\n",
    "    tickers = []\n",
    "    counter = 0\n",
    "    for row in table.findAll('tr')[1:]:\n",
    "        ticker = str(row.findAll('td')[0].text[:-1])\n",
    "        if(\".\" in ticker):\n",
    "            ticker = ticker.replace(\".\",\"-\")\n",
    "        tickers.append(ticker)\n",
    "    START_DATE = (datetime.today() - timedelta(days = TAU * 365)).strftime('%Y-%m-%d') # data start date\n",
    "    END_DATE = datetime.today().strftime('%Y-%m-%d') # data end date\n",
    "    sp500List = pdr.get_data_yahoo(tickers, START_DATE, END_DATE)['Adj Close'] # retreiving asset price data from yahoo finance\n",
    "    sp500LogRetList = np.log(sp500List).diff().dropna()\n",
    "    sp500sum_stats = pd.DataFrame({'Mean':sp500LogRetList.mean(), 'SD': sp500LogRetList.std(), 'Skewness':sp500LogRetList.skew(), 'Excess Kurtosis':sp500LogRetList.kurtosis() , 'RR ratio':(sp500LogRetList.mean()/sp500LogRetList.std())})\n",
    "    sp500sum_stats = sp500sum_stats.sort_values(by='RR ratio', ascending=False)\n",
    "    listOfStocks = list(sp500sum_stats.index.values)\n",
    "    return sp500sum_stats     \n",
    "def get_stock(ticker,TAU):\n",
    "    START_DATE = (datetime.today() - timedelta(days = TAU * 365)).strftime('%Y-%m-%d') # data start date\n",
    "    END_DATE = datetime.today().strftime('%Y-%m-%d') # data end date\n",
    "    data = pdr.get_data_yahoo(f\"{ticker}\",START_DATE,END_DATE)\n",
    "    data[f'{ticker}'] = data[\"Close\"]\n",
    "    data = data[[f'{ticker}']] \n",
    "    print(data.head())\n",
    "    return data \n",
    "\n",
    "def combine_stocks(tickers):\n",
    "    data_frames = []\n",
    "    for i in tickers:\n",
    "        data_frames.append(get_stock(i))\n",
    "        \n",
    "    df_merged = reduce(lambda  left,right: pd.merge(left,right,on=['Date'], how='outer'), data_frames)\n",
    "    print(df_merged.head())\n",
    "    return df_merged"
   ]
  },
  {
   "cell_type": "code",
   "execution_count": 9,
   "metadata": {},
   "outputs": [
    {
     "name": "stdout",
     "output_type": "stream",
     "text": [
      "[*********************100%***********************]  503 of 503 completed\n"
     ]
    },
    {
     "name": "stderr",
     "output_type": "stream",
     "text": [
      "/Users/sparikh/Library/Python/3.9/lib/python/site-packages/pandas/core/internals/blocks.py:402: RuntimeWarning: invalid value encountered in log\n",
      "  result = func(self.values, **kwargs)\n"
     ]
    },
    {
     "ename": "TypeError",
     "evalue": "combine_stocks() takes 1 positional argument but 2 were given",
     "output_type": "error",
     "traceback": [
      "\u001b[0;31m---------------------------------------------------------------------------\u001b[0m",
      "\u001b[0;31mTypeError\u001b[0m                                 Traceback (most recent call last)",
      "Cell \u001b[0;32mIn [9], line 3\u001b[0m\n\u001b[1;32m      1\u001b[0m newPortfolio \u001b[38;5;241m=\u001b[39m rrsp500Portfolio(\u001b[38;5;241m3\u001b[39m)\n\u001b[1;32m      2\u001b[0m finalList \u001b[38;5;241m=\u001b[39m \u001b[38;5;28mlist\u001b[39m(newPortfolio[:\u001b[38;5;241m10\u001b[39m]\u001b[38;5;241m.\u001b[39mindex)\n\u001b[0;32m----> 3\u001b[0m portfolio \u001b[38;5;241m=\u001b[39m \u001b[43mcombine_stocks\u001b[49m\u001b[43m(\u001b[49m\u001b[43mfinalList\u001b[49m\u001b[43m,\u001b[49m\u001b[38;5;241;43m5\u001b[39;49m\u001b[43m)\u001b[49m\n",
      "\u001b[0;31mTypeError\u001b[0m: combine_stocks() takes 1 positional argument but 2 were given"
     ]
    }
   ],
   "source": [
    "newPortfolio = rrsp500Portfolio(3)\n",
    "finalList = list(newPortfolio[:10].index)\n",
    "portfolio = combine_stocks(finalList,5)"
   ]
  },
  {
   "cell_type": "code",
   "execution_count": null,
   "metadata": {},
   "outputs": [
    {
     "name": "stdout",
     "output_type": "stream",
     "text": [
      "{'GE': 0.0, 'BKNG': 0.0, 'CRM': 0.0, 'META': 0.0, 'WST': 0.36118, 'ULTA': 0.00954, 'CPRT': 0.00287, 'MKTX': 0.0, 'CDNS': 0.62641, 'NVDA': 0.0}\n",
      "Expected annual return: 38.1%\n",
      "Annual volatility: 30.8%\n",
      "Sharpe Ratio: 1.17\n"
     ]
    },
    {
     "data": {
      "text/plain": [
       "(0.38073081080170323, 0.30846178711535344, 1.1694505636343313)"
      ]
     },
     "execution_count": 151,
     "metadata": {},
     "output_type": "execute_result"
    }
   ],
   "source": [
    "#Using Mean Variance Optimization to calculate the Ideal diversiification of Assets\n",
    "from pypfopt.expected_returns import mean_historical_return\n",
    "from pypfopt.risk_models import CovarianceShrinkage\n",
    "from pypfopt.efficient_frontier import EfficientFrontier\n",
    "from pypfopt.discrete_allocation import DiscreteAllocation, get_latest_prices\n",
    "\n",
    "\n",
    "mu = mean_historical_return(portfolio)\n",
    "S = CovarianceShrinkage(portfolio).ledoit_wolf()\n",
    "\n",
    "ef = EfficientFrontier(mu, S)\n",
    "weights = ef.max_sharpe()\n",
    "\n",
    "cleaned_weights = ef.clean_weights()\n",
    "print(dict(cleaned_weights))\n",
    "ef.portfolio_performance(verbose=True)\n",
    "##Final Stocks, LLY, COP,ANET, AND ENGH"
   ]
  },
  {
   "cell_type": "code",
   "execution_count": null,
   "metadata": {},
   "outputs": [
    {
     "name": "stdout",
     "output_type": "stream",
     "text": [
      "Expected annual return: 25.9%\n",
      "Annual volatility: 26.2%\n",
      "Sharpe Ratio: 0.91\n",
      "{'BKNG': 0.08309223987009184, 'CDNS': 0.11169539395510798, 'CPRT': 0.11355964805391419, 'CRM': 0.0929912834352311, 'GE': 0.06053399956620375, 'META': 0.0571320079945535, 'MKTX': 0.15726468986339373, 'NVDA': 0.06233928073655871, 'ULTA': 0.10839270378540025, 'WST': 0.15299875273954494}\n"
     ]
    }
   ],
   "source": [
    "from pypfopt import HRPOpt\n",
    "returns = portfolio.pct_change().dropna()\n",
    "hrp = HRPOpt(returns)\n",
    "hrp_weights = hrp.optimize()\n",
    "hrp.portfolio_performance(verbose=True)\n",
    "dictHRP = dict(hrp_weights)\n",
    "print(dict(hrp_weights))"
   ]
  },
  {
   "cell_type": "code",
   "execution_count": null,
   "metadata": {},
   "outputs": [],
   "source": [
    "new = pd.DataFrame.from_dict(dict(hrp_weights),orient ='index')\n",
    "new.to_csv('basePortfolioStocks.csv')\n"
   ]
  }
 ],
 "metadata": {
  "kernelspec": {
   "display_name": "Python 3.9.0 64-bit",
   "language": "python",
   "name": "python3"
  },
  "language_info": {
   "codemirror_mode": {
    "name": "ipython",
    "version": 3
   },
   "file_extension": ".py",
   "mimetype": "text/x-python",
   "name": "python",
   "nbconvert_exporter": "python",
   "pygments_lexer": "ipython3",
   "version": "3.9.0"
  },
  "orig_nbformat": 4,
  "vscode": {
   "interpreter": {
    "hash": "aee8b7b246df8f9039afb4144a1f6fd8d2ca17a180786b69acc140d282b71a49"
   }
  }
 },
 "nbformat": 4,
 "nbformat_minor": 2
}
